{
 "cells": [
  {
   "cell_type": "markdown",
   "metadata": {},
   "source": [
    "# Numpy Basics\n"
   ]
  },
  {
   "cell_type": "markdown",
   "metadata": {},
   "source": [
    "Numpy is a core library of many scientific packages in Python. Its highly optimized and written largely in C and is critical for performing complex calculations as quckly as possible. It provides some basic data structures, like the Numpy Array, that we'll be using extensively (or other libraries will be using under the hood).\n",
    "\n",
    "The numpy array is similar to a python list, save that is is wrapped in a numpy class called `ndarray`."
   ]
  },
  {
   "cell_type": "code",
   "execution_count": null,
   "metadata": {},
   "outputs": [],
   "source": [
    "import numpy as np\n",
    "\n",
    "array = np.array([1,2,3,4,5])\n",
    "\n",
    "# Numpy supports many attributes on the ndarray\n",
    "print(type(array))\n",
    "print(array)\n",
    "print(array.shape)\n",
    "print(array.size)\n",
    "print(array.ndim)\n",
    "print(array.dtype)\n"
   ]
  },
  {
   "cell_type": "markdown",
   "metadata": {},
   "source": [
    "By default numpy is giving me an array of type int64. Assuming I wanted something else, you can force the type with the `dtype` kwarg."
   ]
  },
  {
   "cell_type": "code",
   "execution_count": null,
   "metadata": {},
   "outputs": [],
   "source": [
    "array = np.array([1,2,3,4,5], dtype=np.float64)\n",
    "print(array)\n",
    "print(array.dtype)"
   ]
  },
  {
   "cell_type": "code",
   "execution_count": null,
   "metadata": {},
   "outputs": [],
   "source": [
    "array = np.array([1.0, 2.2, 3.3], dtype=np.int8)\n",
    "print(array)\n"
   ]
  },
  {
   "cell_type": "markdown",
   "metadata": {},
   "source": [
    "\n",
    "You can also change the type of an ndarray after the fact"
   ]
  },
  {
   "cell_type": "code",
   "execution_count": null,
   "metadata": {},
   "outputs": [],
   "source": [
    "array = array.astype(np.float64)\n",
    "print(array)"
   ]
  },
  {
   "cell_type": "markdown",
   "metadata": {},
   "source": [
    "\n",
    "Ndarrays can also be used for more interesting things. The `nd` after all stands for __N-Dimensional__, so we can have much more complicated matrices"
   ]
  },
  {
   "cell_type": "code",
   "execution_count": null,
   "metadata": {},
   "outputs": [],
   "source": [
    "array = np.array([[1,2,3,4], [5,6,7,8], [9,10,11,12]])\n",
    "print(type(array))\n",
    "print(array)\n",
    "print(array.shape)\n",
    "print(array.size)\n",
    "print(array.ndim)\n",
    "print(array.dtype)\n"
   ]
  },
  {
   "cell_type": "markdown",
   "metadata": {},
   "source": [
    "\n",
    "Like Python's lists, Numpy's arrays can be accessed by index, are iterable, and are __sliceable__"
   ]
  },
  {
   "cell_type": "code",
   "execution_count": null,
   "metadata": {},
   "outputs": [],
   "source": [
    "for i in range(array.shape[0]):\n",
    "    for j in range(array.shape[1]):\n",
    "        print(array[i][j])\n",
    "\n",
    "print(\"\\n\\n\")\n",
    "        \n",
    "for row in array:\n",
    "    for element in row:\n",
    "        print(element)\n",
    "\n",
    "print(\"\\n\\n\")\n",
    "\n",
    "# Note the difference between the slicing styles!\n",
    "print(array[1:][:3])\n",
    "\n",
    "print(array[1:, :3])\n",
    "\n"
   ]
  },
  {
   "cell_type": "markdown",
   "metadata": {},
   "source": [
    "### Operators and Numpy\n",
    "\n",
    "Ndarrays supporrt most python operators, and will usually do what you expect\n"
   ]
  },
  {
   "cell_type": "code",
   "execution_count": null,
   "metadata": {},
   "outputs": [],
   "source": [
    "array + array"
   ]
  },
  {
   "cell_type": "code",
   "execution_count": null,
   "metadata": {},
   "outputs": [],
   "source": [
    "array * 2"
   ]
  },
  {
   "cell_type": "code",
   "execution_count": null,
   "metadata": {},
   "outputs": [],
   "source": [
    "array - 1"
   ]
  },
  {
   "cell_type": "code",
   "execution_count": null,
   "metadata": {},
   "outputs": [],
   "source": [
    "array % 2"
   ]
  },
  {
   "cell_type": "code",
   "execution_count": null,
   "metadata": {},
   "outputs": [],
   "source": [
    "array == 3"
   ]
  },
  {
   "cell_type": "code",
   "execution_count": null,
   "metadata": {},
   "outputs": [],
   "source": [
    "array != 1"
   ]
  },
  {
   "cell_type": "markdown",
   "metadata": {},
   "source": [
    "\n",
    "Numpy also supports vector and matrix operations"
   ]
  },
  {
   "cell_type": "code",
   "execution_count": null,
   "metadata": {},
   "outputs": [],
   "source": [
    "a = np.array([[1,2], [2,3]])\n",
    "b = np.array([[5,6], [2,3]])\n",
    "\n",
    "a.dot(b)"
   ]
  },
  {
   "cell_type": "code",
   "execution_count": null,
   "metadata": {},
   "outputs": [],
   "source": [
    "np.matmul(a, b)"
   ]
  },
  {
   "cell_type": "code",
   "execution_count": null,
   "metadata": {},
   "outputs": [],
   "source": [
    "# Transpose\n",
    "np.array([[1,1], [2,3]]).T"
   ]
  },
  {
   "cell_type": "markdown",
   "metadata": {},
   "source": [
    "\n",
    "You can use the fact that numpy works with boolean operators to index into numpy arrays and return subsets of the data based on specific criteria."
   ]
  },
  {
   "cell_type": "code",
   "execution_count": null,
   "metadata": {},
   "outputs": [],
   "source": [
    "index = array < 5\n",
    "print(array[index])"
   ]
  },
  {
   "cell_type": "code",
   "execution_count": null,
   "metadata": {},
   "outputs": [],
   "source": [
    "print(array[(array < 5) & (array > 2)])"
   ]
  },
  {
   "cell_type": "code",
   "execution_count": null,
   "metadata": {},
   "outputs": [],
   "source": [
    "print(array[(array < 5) | (array > 10)])"
   ]
  },
  {
   "cell_type": "markdown",
   "metadata": {},
   "source": [
    "### Ndarray Methods\n",
    "\n",
    "Ndarrays supports a myriad of methods, a few of the most useful are listed below:\n",
    "\n",
    "* sum\n",
    "* mean\n",
    "* std\n",
    "* min\n",
    "* max\n",
    "* min\n",
    "* max\n",
    "* sqrt\n"
   ]
  },
  {
   "cell_type": "code",
   "execution_count": null,
   "metadata": {},
   "outputs": [],
   "source": [
    "array = np.ones(5)\n",
    "print(array)"
   ]
  },
  {
   "cell_type": "code",
   "execution_count": null,
   "metadata": {},
   "outputs": [],
   "source": [
    "array.sum()"
   ]
  },
  {
   "cell_type": "code",
   "execution_count": null,
   "metadata": {},
   "outputs": [],
   "source": [
    "array.mean()"
   ]
  },
  {
   "cell_type": "code",
   "execution_count": null,
   "metadata": {},
   "outputs": [],
   "source": [
    "array = np.array([1,2,3,4,5])\n",
    "print(array.min())\n",
    "print(array.max())"
   ]
  },
  {
   "cell_type": "code",
   "execution_count": null,
   "metadata": {},
   "outputs": [],
   "source": [
    "array.std()"
   ]
  },
  {
   "cell_type": "markdown",
   "metadata": {},
   "source": [
    "Numpy also supports an extensive library of other methods designed for linear algebra and scientific computing. A very useful one is `Polynomial` which can be used for fitting a line. Lets generate a random data set, and attempt to fit a line to it."
   ]
  },
  {
   "cell_type": "code",
   "execution_count": null,
   "metadata": {},
   "outputs": [],
   "source": [
    "import matplotlib.pyplot as plt\n",
    "\n",
    "X = np.linspace(0.0, 20.0, 100)\n",
    "Y = 0.2 + 0.05 * X + 0.4 * np.sin(X) + 0.1 * np.random.normal(size = (100))\n",
    "\n",
    "plt.figure(1)\n",
    "plt.clf()\n",
    "            \n",
    "plt.plot(X, Y, 'o-')\n",
    "plt.draw()\n"
   ]
  },
  {
   "cell_type": "markdown",
   "metadata": {},
   "source": [
    "This data plot might be best described as a noisy sine wave. "
   ]
  },
  {
   "cell_type": "code",
   "execution_count": null,
   "metadata": {},
   "outputs": [],
   "source": [
    "import numpy.polynomial.polynomial as poly\n",
    "\n",
    "# Polyfit will generate coefficients, the 3rd argument is degrees of fitting\n",
    "coefficients = poly.polyfit(X, Y, 2)\n",
    "fit = poly.polyval(X, coefficients)\n"
   ]
  },
  {
   "cell_type": "code",
   "execution_count": null,
   "metadata": {},
   "outputs": [],
   "source": [
    "plt.figure(1)\n",
    "plt.clf()\n",
    "            \n",
    "plt.plot(X, Y, 'o-', X, fit, '--')\n",
    "plt.draw()"
   ]
  },
  {
   "cell_type": "markdown",
   "metadata": {},
   "source": [
    "We'll need to scale up the number of degrees, but keep in mind, the higher the number, the longer the operation can take. Fitting the line too precisely can also lead to overfitting."
   ]
  },
  {
   "cell_type": "code",
   "execution_count": null,
   "metadata": {},
   "outputs": [],
   "source": [
    "coefficients = poly.polyfit(X, Y, 10)\n",
    "fit = poly.polyval(X, coefficients)\n",
    "plt.figure(1)\n",
    "plt.clf()\n",
    "            \n",
    "plt.plot(X, Y, 'o-', X, fit, '--')\n",
    "plt.draw()"
   ]
  },
  {
   "cell_type": "code",
   "execution_count": null,
   "metadata": {},
   "outputs": [],
   "source": []
  }
 ],
 "metadata": {
  "kernelspec": {
   "display_name": "Python 3",
   "language": "python",
   "name": "python3"
  },
  "language_info": {
   "codemirror_mode": {
    "name": "ipython",
    "version": 3
   },
   "file_extension": ".py",
   "mimetype": "text/x-python",
   "name": "python",
   "nbconvert_exporter": "python",
   "pygments_lexer": "ipython3",
   "version": "3.7.0"
  }
 },
 "nbformat": 4,
 "nbformat_minor": 2
}
