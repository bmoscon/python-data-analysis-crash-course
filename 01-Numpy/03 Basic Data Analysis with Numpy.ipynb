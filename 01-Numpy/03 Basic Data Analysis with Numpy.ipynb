{
 "cells": [
  {
   "cell_type": "markdown",
   "metadata": {},
   "source": [
    "### Obtaining a dataset\n",
    "\n",
    "For this exercise we'll use a dataset from the Machine Learning Repository hosted by The University of California att Irvine. You can view the complete repository [here](https://archive.ics.uci.edu/ml/index.php). We'll be using the __Adult__ dataset, which contains information from the 1994 US census. The fields in the dataset are\n",
    "\n",
    "* age: continuous.\n",
    "* workclass: Private, Self-emp-not-inc, Self-emp-inc, Federal-gov, Local-gov, State-gov, Without-pay, Never-worked.\n",
    "* fnlwgt: continuous.\n",
    "* education: Bachelors, Some-college, 11th, HS-grad, Prof-school, Assoc-acdm, Assoc-voc, 9th, 7th-8th, 12th, Masters, 1st-4th, 10th, Doctorate, 5th-6th, Preschool.\n",
    "* education-num: continuous.\n",
    "* marital-status: Married-civ-spouse, Divorced, Never-married, Separated, Widowed, Married-spouse-absent, Married-AF-spouse.\n",
    "* occupation: Tech-support, Craft-repair, Other-service, Sales, Exec-managerial, Prof-specialty, Handlers-cleaners, Machine-op-inspct, Adm-clerical, Farming-fishing, Transport-moving, Priv-house-serv, Protective-serv, Armed-Forces.\n",
    "* relationship: Wife, Own-child, Husband, Not-in-family, Other-relative, Unmarried.\n",
    "* race: White, Asian-Pac-Islander, Amer-Indian-Eskimo, Other, Black.\n",
    "* sex: Female, Male.\n",
    "* capital-gain: continuous.\n",
    "* capital-loss: continuous.\n",
    "* hours-per-week: continuous.\n",
    "* native-country: United-States, Cambodia, England, Puerto-Rico, Canada, Germany, Outlying-US(Guam-USVI-etc), India, Japan, Greece, South, China, Cuba, Iran, Honduras, Philippines, Italy, Poland, Jamaica, Vietnam, Mexico, Portugal, Ireland, France, Dominican-Republic, Laos, Ecuador, Taiwan, Haiti, Columbia, Hungary, Guatemala, Nicaragua, Scotland, Thailand, Yugoslavia, El-Salvador, Trinadad&Tobago, Peru, Hong, Holand-Netherlands.\n",
    "* Income level: <=50K or >50K\n",
    "\n",
    "We can use this dataset to investigate and graph out various things, using Numpy and matplotlib."
   ]
  },
  {
   "cell_type": "code",
   "execution_count": 1,
   "metadata": {},
   "outputs": [
    {
     "name": "stdout",
     "output_type": "stream",
     "text": [
      "39, State-gov, 77516, Bachelors, 13, Never-married, Adm-clerical, Not-in-family, White, Male, 2174, \n"
     ]
    }
   ],
   "source": [
    "import numpy as np\n",
    "import requests\n",
    "import matplotlib.pyplot as plt\n",
    "\n",
    "raw_data = requests.get('https://archive.ics.uci.edu/ml/machine-learning-databases/adult/adult.data').text\n",
    "print(raw_data[:100])\n"
   ]
  },
  {
   "cell_type": "markdown",
   "metadata": {},
   "source": [
    "The data is in CSV format. We can store this in a numpy matrix using the `loadtxt` method. This method, per the documentation, requires that the input be a filename, a generator, or a list of string. A generator or a list will work equally well here."
   ]
  },
  {
   "cell_type": "code",
   "execution_count": 2,
   "metadata": {},
   "outputs": [
    {
     "name": "stdout",
     "output_type": "stream",
     "text": [
      "(32561, 15)\n",
      "<U26\n",
      "<class 'numpy.ndarray'>\n",
      "<class 'numpy.ndarray'>\n",
      "['39' 'State-gov' '77516' 'Bachelors' '13' 'Never-married' 'Adm-clerical'\n",
      " 'Not-in-family' 'White' 'Male' '2174' '0' '40' 'United-States' '<=50K']\n"
     ]
    }
   ],
   "source": [
    "raw_data = raw_data.replace(\", \", \",\")\n",
    "data = raw_data.split(\"\\n\")\n",
    "dataset = np.loadtxt(data, dtype=str, encoding=str, delimiter=',')\n",
    "print(dataset.shape)\n",
    "print(dataset.dtype)\n",
    "print(type(dataset))\n",
    "print(type(dataset[0]))\n",
    "print(dataset[0])"
   ]
  },
  {
   "cell_type": "markdown",
   "metadata": {},
   "source": [
    "### Analyzing the Data\n",
    "\n",
    "Now that we have the dataset we can being our analysis. To start with, try counting the number of people with a bachelors degree (or higher) that have an income level above \\\\$50,000 and how many have an income level less than \\\\$50,000, and creating a simple bar chart illustrating the difference."
   ]
  },
  {
   "cell_type": "code",
   "execution_count": 35,
   "metadata": {},
   "outputs": [
    {
     "data": {
      "image/png": "[encoded data removed]",
      "text/plain": [
       "<Figure size 432x288 with 1 Axes>"
      ]
     },
     "metadata": {
      "needs_background": "light"
     },
     "output_type": "display_data"
    }
   ],
   "source": [
    "edu = dataset[(dataset[:, 3] == 'Bachelors') | (dataset[:, 3] == 'Masters') | (dataset[:, 3] == 'Doctorate')]\n",
    "more = edu[edu[:, -1] == '>50K']\n",
    "more = more.shape[0]\n",
    "less = edu[edu[:, -1] == '<=50K']\n",
    "less = less.shape[0]\n",
    "\n",
    "objects = ('<50K', '>50K')\n",
    "y = np.arange(len(objects))\n",
    "income = [less, more]\n",
    " \n",
    "plt.bar(y, income, align='center', alpha=0.5)\n",
    "plt.xticks(y, objects)\n",
    "plt.ylabel('Income')\n",
    "plt.title('Income levels for College Graduates')\n",
    " \n",
    "plt.show()"
   ]
  },
  {
   "cell_type": "markdown",
   "metadata": {},
   "source": [
    "Next, determine which of the occupations is the most likely to net you more than \\\\$50,000 a year, and graph the results\n"
   ]
  },
  {
   "cell_type": "code",
   "execution_count": 30,
   "metadata": {},
   "outputs": [
    {
     "data": {
      "image/png": "[encoded data removed]",
      "text/plain": [
       "<Figure size 432x288 with 1 Axes>"
      ]
     },
     "metadata": {
      "needs_background": "light"
     },
     "output_type": "display_data"
    }
   ],
   "source": [
    "work = dataset[dataset[:, -1] == '>50K']\n",
    "occupations = ['Tech-support', 'Craft-repair', 'Other-service', 'Sales', 'Exec-managerial', 'Prof-specialty', 'Handlers-cleaners', 'Machine-op-inspct', 'Adm-clerical', 'Farming-fishing', 'Transport-moving', 'Priv-house-serv', 'Protective-serv', 'Armed-Forces']\n",
    "\n",
    "counts = []\n",
    "for occu in occupations:\n",
    "    counts.append(work[work[:, 6] == occu].shape[0])\n",
    "\n",
    "y = np.arange(len(occupations))\n",
    " \n",
    "plt.barh(y, counts, align='center', alpha=0.5)\n",
    "plt.yticks(y, occupations)\n",
    "plt.xlabel('Occupations')\n",
    "plt.title('Number of people making more than 50K by occupation')\n",
    " \n",
    "plt.show()\n"
   ]
  },
  {
   "cell_type": "markdown",
   "metadata": {},
   "source": [
    "Finally, determine whether marital status is a significant factor in determining income level"
   ]
  },
  {
   "cell_type": "code",
   "execution_count": 42,
   "metadata": {},
   "outputs": [
    {
     "name": "stdout",
     "output_type": "stream",
     "text": [
      "Less than 50K income\n",
      "Married: 14528\n",
      "Never married: 10192\n",
      "More than 50K income\n",
      "Married: 7350\n",
      "Never married: 491\n"
     ]
    }
   ],
   "source": [
    "more = dataset[dataset[:, -1] == '>50K']\n",
    "less = dataset[dataset[:, -1] == '<=50K']\n",
    "\n",
    "married_l = less[less[:, 5] != 'Never-married']\n",
    "not_married_l = less[less[:, 5] == 'Never-married']\n",
    "\n",
    "married_m = more[more[:, 5] != 'Never-married']\n",
    "not_married_m = more[more[:, 5] == 'Never-married']\n",
    "\n",
    "print(\"Less than 50K income\")\n",
    "print(f\"Married: {married_l.shape[0]}\")\n",
    "print(f\"Never married: {not_married_l.shape[0]}\")\n",
    "\n",
    "print(\"More than 50K income\")\n",
    "print(f\"Married: {married_m.shape[0]}\")\n",
    "print(f\"Never married: {not_married_m.shape[0]}\")"
   ]
  },
  {
   "cell_type": "code",
   "execution_count": null,
   "metadata": {},
   "outputs": [],
   "source": []
  }
 ],
 "metadata": {
  "kernelspec": {
   "display_name": "Python 3",
   "language": "python",
   "name": "python3"
  },
  "language_info": {
   "codemirror_mode": {
    "name": "ipython",
    "version": 3
   },
   "file_extension": ".py",
   "mimetype": "text/x-python",
   "name": "python",
   "nbconvert_exporter": "python",
   "pygments_lexer": "ipython3",
   "version": "3.7.2"
  }
 },
 "nbformat": 4,
 "nbformat_minor": 2
}
